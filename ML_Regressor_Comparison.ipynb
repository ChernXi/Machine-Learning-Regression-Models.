{
  "nbformat": 4,
  "nbformat_minor": 0,
  "metadata": {
    "colab": {
      "provenance": [],
      "collapsed_sections": []
    },
    "kernelspec": {
      "name": "python3",
      "display_name": "Python 3"
    },
    "language_info": {
      "name": "python"
    }
  },
  "cells": [
    {
      "cell_type": "code",
      "source": [
        "!pip install catboost\n",
        "!pip install pytorch-tabnet"
      ],
      "metadata": {
        "id": "PaNOsRisllsX"
      },
      "execution_count": null,
      "outputs": []
    },
    {
      "cell_type": "code",
      "execution_count": 2,
      "metadata": {
        "id": "OAfPbmljlGs3"
      },
      "outputs": [],
      "source": [
        "import sklearn.datasets as skdatasets\n",
        "from sklearn.model_selection import train_test_split\n",
        "from sklearn.preprocessing import StandardScaler\n",
        "import numpy as np\n",
        "import pandas as pd\n",
        "import matplotlib.pyplot as plt\n",
        "import os, datetime\n",
        "import time\n",
        "from sklearn.metrics import mean_squared_error as mse\n",
        "from sklearn.metrics import mean_absolute_error as mae\n",
        "from sklearn.linear_model import LinearRegression as l\n",
        "from sklearn.ensemble import RandomForestRegressor as RF\n",
        "from sklearn.neighbors import KNeighborsRegressor as KNN\n",
        "from sklearn.svm import SVR \n",
        "from sklearn.linear_model import SGDRegressor as SGD\n",
        "from sklearn.pipeline import make_pipeline \n",
        "from sklearn.linear_model import BayesianRidge as BR\n",
        "from catboost import CatBoostRegressor as CR\n",
        "from xgboost.sklearn import XGBRegressor as XGB\n",
        "from lightgbm import LGBMRegressor as LGBM\n",
        "from pytorch_tabnet.tab_model import TabNetRegressor as TR"
      ]
    },
    {
      "cell_type": "code",
      "source": [
        "# import the dataset\n",
        "data_url = \"http://lib.stat.cmu.edu/datasets/boston\"\n",
        "raw_df = pd.read_csv(data_url, sep=\"\\s+\", skiprows=22, header=None)\n",
        "boston_features = np.hstack([raw_df.values[::2, :], raw_df.values[1::2, :2]])\n",
        "boston_labels = raw_df.values[1::2, 2]\n",
        "\n",
        "# Apply train_test_split\n",
        "SEED = 123\n",
        "x_train,x_test,y_train,y_test = train_test_split(boston_features, boston_labels, test_size=0.2, random_state=SEED)\n",
        "\n",
        "# standardize the data\n",
        "standardizer = StandardScaler()\n",
        "for i in [x_train,x_test]:\n",
        "    standardizer.fit(i)\n",
        "    i= standardizer.transform(i)"
      ],
      "metadata": {
        "id": "TrZwgzmLs7XO"
      },
      "execution_count": 3,
      "outputs": []
    },
    {
      "cell_type": "code",
      "source": [
        "from pandas.core.arrays.sparse.array import make_sparse_index\n",
        "# Employ the regressors to construct model and evaluate their performances.\n",
        "name_alias = [\"l\",\"RF\",\"KNN\",\"SVR\",\"BR\",\"XGB\",\"LGBM\"]\n",
        "model_list = [l(), RF(), KNN(), SVR(), BR(), XGB(), LGBM()]\n",
        "mae_list = [] \n",
        "mse_list = []\n",
        "corr_list = []\n",
        "time_list = []\n",
        "for index,name in enumerate(name_alias):\n",
        "    model = model_list[index]\n",
        "    now = time.time()\n",
        "    model.fit(x_train, y_train)\n",
        "    training_time = time.time()-now\n",
        "    predictions = model.predict(x_test)\n",
        "    mae_i = mae(predictions, y_test)\n",
        "    mse_i = mse(predictions, y_test)\n",
        "    corr_i = np.corrcoef(predictions, y_test)[0,1]\n",
        "    mae_list.append(mae_i)\n",
        "    mse_list.append(mse_i)\n",
        "    corr_list.append(corr_i)\n",
        "    time_list.append(training_time)"
      ],
      "metadata": {
        "colab": {
          "base_uri": "https://localhost:8080/"
        },
        "id": "AaUHTc7om3G-",
        "outputId": "dee15d2e-0044-4e0b-f3c6-fcf506da1f0e"
      },
      "execution_count": 4,
      "outputs": [
        {
          "output_type": "stream",
          "name": "stdout",
          "text": [
            "[09:46:55] WARNING: /workspace/src/objective/regression_obj.cu:152: reg:linear is now deprecated in favor of reg:squarederror.\n"
          ]
        }
      ]
    },
    {
      "cell_type": "code",
      "source": [
        "model_SGD = make_pipeline(StandardScaler(), SGD(max_iter=1000, tol=1e-3, early_stopping=True, n_iter_no_change=200))\n",
        "now = time.time()\n",
        "model_SGD.fit(x_train, y_train)\n",
        "time_SGD = time.time()-now\n",
        "pred_SGD = model_SGD.predict(x_test)\n",
        "mae_SGD = mae(pred_SGD, y_test)\n",
        "mse_SGD = mse(pred_SGD, y_test)\n",
        "corr_SGD = np.corrcoef(pred_SGD, y_test)[0,1]\n",
        "time_list.append(time_SGD)\n",
        "mae_list.append(mae_SGD)\n",
        "mse_list.append(mse_SGD)\n",
        "corr_list.append(corr_SGD)"
      ],
      "metadata": {
        "id": "kYeQrNIopC92"
      },
      "execution_count": 5,
      "outputs": []
    },
    {
      "cell_type": "code",
      "source": [
        "model_CR = CR(learning_rate=0.032, depth=7, iterations=5000, early_stopping_rounds=500, use_best_model=True)\n",
        "now = time.time()\n",
        "model_CR.fit(x_train, y_train, eval_set=(x_test, y_test))\n",
        "time_CR = time.time()-now\n",
        "pred_CR = model_CR.predict(x_test)\n",
        "mae_CR = mae(pred_CR, y_test)\n",
        "mse_CR = mse(pred_CR, y_test)\n",
        "corr_CR = np.corrcoef(pred_CR, y_test)[0,1]\n",
        "time_list.append(time_CR)\n",
        "mae_list.append(mae_CR)\n",
        "mse_list.append(mse_CR)\n",
        "corr_list.append(corr_CR)"
      ],
      "metadata": {
        "id": "sAVry8WjyMmg"
      },
      "execution_count": null,
      "outputs": []
    },
    {
      "cell_type": "code",
      "source": [
        "model_TR = TR(verbose=0,seed=137)\n",
        "y_train = np.array(y_train).reshape(-1,1)\n",
        "y_test = np.array(y_test).reshape(-1,1)\n",
        "now = time.time()\n",
        "model_TR.fit(X_train=x_train, y_train=y_train, eval_set=[(x_test, y_test)], patience=500, max_epochs=5000, eval_metric=['mae'])\n",
        "time_TR = time.time()-now\n",
        "pred_TR = model_TR.predict(x_test).flatten()\n",
        "mae_TR = mae(pred_TR, y_test.flatten())\n",
        "mse_TR = mse(pred_TR, y_test.flatten())\n",
        "corr_TR = np.corrcoef(pred_TR, y_test.flatten())[0,1]\n",
        "time_list.append(time_TR)\n",
        "mae_list.append(mae_TR)\n",
        "mse_list.append(mse_TR)\n",
        "corr_list.append(corr_TR)"
      ],
      "metadata": {
        "colab": {
          "base_uri": "https://localhost:8080/"
        },
        "id": "qet8f5OoxF1t",
        "outputId": "ef82c95f-f001-4801-f032-a1f51bdef4ba"
      },
      "execution_count": 7,
      "outputs": [
        {
          "output_type": "stream",
          "name": "stdout",
          "text": [
            "\n",
            "Early stopping occurred at epoch 1259 with best_epoch = 759 and best_val_0_mae = 2.01008\n",
            "Best weights from best epoch are automatically used!\n"
          ]
        }
      ]
    },
    {
      "cell_type": "code",
      "source": [
        "Regressor_Name = [\"sklearn.linear_model.LinearRegression\", \n",
        "                  \"sklearn.ensemble.RandomForestRegressor\", \n",
        "                  \"sklearn.neighbors.KNeighborsRegressor\", \n",
        "                  \"sklearn.svm.SVR\", \n",
        "                  \"sklearn.linear_model.BayesianRidge\", \n",
        "                  \"xgboost.sklearn.XGBRegressor\", \n",
        "                  \"lightgbm.LGBMRegressor\", \n",
        "                  \"sklearn.linear_model.SGDRegressor\",\n",
        "                  \"catboost.CatBoostRegressor\",  \n",
        "                  \"pytorch_tabnet.tab_model.TabNetRegressor\"]\n",
        "Result_table = pd.DataFrame({\"Regressor\" : Regressor_Name, \"MAE\" : mae_list, \"MSE\" : mse_list, \"Correlation\" : corr_list, \"Time Elapsed\":time_list}) \n",
        "Result_table.sort_values([\"Time Elapsed\",\"Correlation\",\"MAE\", \"MSE\"],\n",
        "               axis = 0, ascending = [True, False, True, True],\n",
        "               inplace = True, ignore_index=True,\n",
        "               na_position = \"first\")\n",
        "left_aligned_RT = Result_table.style.set_properties(**{'text-align': 'left'})\n",
        "display(left_aligned_RT)"
      ],
      "metadata": {
        "colab": {
          "base_uri": "https://localhost:8080/",
          "height": 363
        },
        "id": "a2TpZHPrtacN",
        "outputId": "3df9d649-eef9-4f85-c391-51f773f6f763"
      },
      "execution_count": 10,
      "outputs": [
        {
          "output_type": "display_data",
          "data": {
            "text/plain": [
              "<pandas.io.formats.style.Styler at 0x7fdf2e401a10>"
            ],
            "text/html": [
              "<style type=\"text/css\">\n",
              "#T_e2664_row0_col0, #T_e2664_row0_col1, #T_e2664_row0_col2, #T_e2664_row0_col3, #T_e2664_row0_col4, #T_e2664_row1_col0, #T_e2664_row1_col1, #T_e2664_row1_col2, #T_e2664_row1_col3, #T_e2664_row1_col4, #T_e2664_row2_col0, #T_e2664_row2_col1, #T_e2664_row2_col2, #T_e2664_row2_col3, #T_e2664_row2_col4, #T_e2664_row3_col0, #T_e2664_row3_col1, #T_e2664_row3_col2, #T_e2664_row3_col3, #T_e2664_row3_col4, #T_e2664_row4_col0, #T_e2664_row4_col1, #T_e2664_row4_col2, #T_e2664_row4_col3, #T_e2664_row4_col4, #T_e2664_row5_col0, #T_e2664_row5_col1, #T_e2664_row5_col2, #T_e2664_row5_col3, #T_e2664_row5_col4, #T_e2664_row6_col0, #T_e2664_row6_col1, #T_e2664_row6_col2, #T_e2664_row6_col3, #T_e2664_row6_col4, #T_e2664_row7_col0, #T_e2664_row7_col1, #T_e2664_row7_col2, #T_e2664_row7_col3, #T_e2664_row7_col4, #T_e2664_row8_col0, #T_e2664_row8_col1, #T_e2664_row8_col2, #T_e2664_row8_col3, #T_e2664_row8_col4, #T_e2664_row9_col0, #T_e2664_row9_col1, #T_e2664_row9_col2, #T_e2664_row9_col3, #T_e2664_row9_col4 {\n",
              "  text-align: left;\n",
              "}\n",
              "</style>\n",
              "<table id=\"T_e2664_\" class=\"dataframe\">\n",
              "  <thead>\n",
              "    <tr>\n",
              "      <th class=\"blank level0\" >&nbsp;</th>\n",
              "      <th class=\"col_heading level0 col0\" >Regressor</th>\n",
              "      <th class=\"col_heading level0 col1\" >MAE</th>\n",
              "      <th class=\"col_heading level0 col2\" >MSE</th>\n",
              "      <th class=\"col_heading level0 col3\" >Correlation</th>\n",
              "      <th class=\"col_heading level0 col4\" >Time Elapsed</th>\n",
              "    </tr>\n",
              "  </thead>\n",
              "  <tbody>\n",
              "    <tr>\n",
              "      <th id=\"T_e2664_level0_row0\" class=\"row_heading level0 row0\" >0</th>\n",
              "      <td id=\"T_e2664_row0_col0\" class=\"data row0 col0\" >sklearn.neighbors.KNeighborsRegressor</td>\n",
              "      <td id=\"T_e2664_row0_col1\" class=\"data row0 col1\" >4.152549</td>\n",
              "      <td id=\"T_e2664_row0_col2\" class=\"data row0 col2\" >37.429969</td>\n",
              "      <td id=\"T_e2664_row0_col3\" class=\"data row0 col3\" >0.742660</td>\n",
              "      <td id=\"T_e2664_row0_col4\" class=\"data row0 col4\" >0.000553</td>\n",
              "    </tr>\n",
              "    <tr>\n",
              "      <th id=\"T_e2664_level0_row1\" class=\"row_heading level0 row1\" >1</th>\n",
              "      <td id=\"T_e2664_row1_col0\" class=\"data row1 col0\" >sklearn.linear_model.BayesianRidge</td>\n",
              "      <td id=\"T_e2664_row1_col1\" class=\"data row1 col1\" >3.740144</td>\n",
              "      <td id=\"T_e2664_row1_col2\" class=\"data row1 col2\" >29.803061</td>\n",
              "      <td id=\"T_e2664_row1_col3\" class=\"data row1 col3\" >0.802493</td>\n",
              "      <td id=\"T_e2664_row1_col4\" class=\"data row1 col4\" >0.001281</td>\n",
              "    </tr>\n",
              "    <tr>\n",
              "      <th id=\"T_e2664_level0_row2\" class=\"row_heading level0 row2\" >2</th>\n",
              "      <td id=\"T_e2664_row2_col0\" class=\"data row2 col0\" >sklearn.svm.SVR</td>\n",
              "      <td id=\"T_e2664_row2_col1\" class=\"data row2 col1\" >5.561361</td>\n",
              "      <td id=\"T_e2664_row2_col2\" class=\"data row2 col2\" >74.233229</td>\n",
              "      <td id=\"T_e2664_row2_col3\" class=\"data row2 col3\" >0.440066</td>\n",
              "      <td id=\"T_e2664_row2_col4\" class=\"data row2 col4\" >0.007780</td>\n",
              "    </tr>\n",
              "    <tr>\n",
              "      <th id=\"T_e2664_level0_row3\" class=\"row_heading level0 row3\" >3</th>\n",
              "      <td id=\"T_e2664_row3_col0\" class=\"data row3 col0\" >sklearn.linear_model.LinearRegression</td>\n",
              "      <td id=\"T_e2664_row3_col1\" class=\"data row3 col1\" >3.660153</td>\n",
              "      <td id=\"T_e2664_row3_col2\" class=\"data row3 col2\" >28.192486</td>\n",
              "      <td id=\"T_e2664_row3_col3\" class=\"data row3 col3\" >0.814584</td>\n",
              "      <td id=\"T_e2664_row3_col4\" class=\"data row3 col4\" >0.017675</td>\n",
              "    </tr>\n",
              "    <tr>\n",
              "      <th id=\"T_e2664_level0_row4\" class=\"row_heading level0 row4\" >4</th>\n",
              "      <td id=\"T_e2664_row4_col0\" class=\"data row4 col0\" >lightgbm.LGBMRegressor</td>\n",
              "      <td id=\"T_e2664_row4_col1\" class=\"data row4 col1\" >2.671799</td>\n",
              "      <td id=\"T_e2664_row4_col2\" class=\"data row4 col2\" >21.316456</td>\n",
              "      <td id=\"T_e2664_row4_col3\" class=\"data row4 col3\" >0.870443</td>\n",
              "      <td id=\"T_e2664_row4_col4\" class=\"data row4 col4\" >0.043330</td>\n",
              "    </tr>\n",
              "    <tr>\n",
              "      <th id=\"T_e2664_level0_row5\" class=\"row_heading level0 row5\" >5</th>\n",
              "      <td id=\"T_e2664_row5_col0\" class=\"data row5 col0\" >xgboost.sklearn.XGBRegressor</td>\n",
              "      <td id=\"T_e2664_row5_col1\" class=\"data row5 col1\" >2.402975</td>\n",
              "      <td id=\"T_e2664_row5_col2\" class=\"data row5 col2\" >15.112581</td>\n",
              "      <td id=\"T_e2664_row5_col3\" class=\"data row5 col3\" >0.905172</td>\n",
              "      <td id=\"T_e2664_row5_col4\" class=\"data row5 col4\" >0.113461</td>\n",
              "    </tr>\n",
              "    <tr>\n",
              "      <th id=\"T_e2664_level0_row6\" class=\"row_heading level0 row6\" >6</th>\n",
              "      <td id=\"T_e2664_row6_col0\" class=\"data row6 col0\" >sklearn.linear_model.SGDRegressor</td>\n",
              "      <td id=\"T_e2664_row6_col1\" class=\"data row6 col1\" >3.601442</td>\n",
              "      <td id=\"T_e2664_row6_col2\" class=\"data row6 col2\" >27.774514</td>\n",
              "      <td id=\"T_e2664_row6_col3\" class=\"data row6 col3\" >0.816334</td>\n",
              "      <td id=\"T_e2664_row6_col4\" class=\"data row6 col4\" >0.168876</td>\n",
              "    </tr>\n",
              "    <tr>\n",
              "      <th id=\"T_e2664_level0_row7\" class=\"row_heading level0 row7\" >7</th>\n",
              "      <td id=\"T_e2664_row7_col0\" class=\"data row7 col0\" >sklearn.ensemble.RandomForestRegressor</td>\n",
              "      <td id=\"T_e2664_row7_col1\" class=\"data row7 col1\" >2.482069</td>\n",
              "      <td id=\"T_e2664_row7_col2\" class=\"data row7 col2\" >18.009322</td>\n",
              "      <td id=\"T_e2664_row7_col3\" class=\"data row7 col3\" >0.888759</td>\n",
              "      <td id=\"T_e2664_row7_col4\" class=\"data row7 col4\" >0.215385</td>\n",
              "    </tr>\n",
              "    <tr>\n",
              "      <th id=\"T_e2664_level0_row8\" class=\"row_heading level0 row8\" >8</th>\n",
              "      <td id=\"T_e2664_row8_col0\" class=\"data row8 col0\" >catboost.CatBoostRegressor</td>\n",
              "      <td id=\"T_e2664_row8_col1\" class=\"data row8 col1\" >1.962225</td>\n",
              "      <td id=\"T_e2664_row8_col2\" class=\"data row8 col2\" >9.397912</td>\n",
              "      <td id=\"T_e2664_row8_col3\" class=\"data row8 col3\" >0.941806</td>\n",
              "      <td id=\"T_e2664_row8_col4\" class=\"data row8 col4\" >3.306138</td>\n",
              "    </tr>\n",
              "    <tr>\n",
              "      <th id=\"T_e2664_level0_row9\" class=\"row_heading level0 row9\" >9</th>\n",
              "      <td id=\"T_e2664_row9_col0\" class=\"data row9 col0\" >pytorch_tabnet.tab_model.TabNetRegressor</td>\n",
              "      <td id=\"T_e2664_row9_col1\" class=\"data row9 col1\" >2.010076</td>\n",
              "      <td id=\"T_e2664_row9_col2\" class=\"data row9 col2\" >7.272916</td>\n",
              "      <td id=\"T_e2664_row9_col3\" class=\"data row9 col3\" >0.955575</td>\n",
              "      <td id=\"T_e2664_row9_col4\" class=\"data row9 col4\" >31.901599</td>\n",
              "    </tr>\n",
              "  </tbody>\n",
              "</table>\n"
            ]
          },
          "metadata": {}
        }
      ]
    }
  ]
}